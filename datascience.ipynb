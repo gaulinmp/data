{
 "cells": [
  {
   "cell_type": "code",
   "execution_count": null,
   "metadata": {
    "ExecuteTime": {
     "end_time": "2018-09-26T18:56:13.035009Z",
     "start_time": "2018-09-26T18:56:12.241131Z"
    }
   },
   "outputs": [],
   "source": [
    "try:\n",
    "    import pandas as pd\n",
    "    from pyedgar.utilities import edgarweb\n",
    "except ModuleNotFoundError:\n",
    "    print(\"Warning, pyedgar not found.\")\n",
    "    class _o_(object):\n",
    "        def edgar_links(*args, **kwargs):\n",
    "            return ''\n",
    "    edgarweb = _o_()\n",
    "\n",
    "try:\n",
    "    import panda_cub\n",
    "    panda_cub.monkey_patch_pandas()\n",
    "    panda_cub.monkey_patch_seaborn()\n",
    "except ModuleNotFoundError:\n",
    "    print(\"Warning, panda_cub not found.\")"
   ]
  },
  {
   "cell_type": "code",
   "execution_count": null,
   "metadata": {
    "ExecuteTime": {
     "end_time": "2018-09-26T19:22:26.834516Z",
     "start_time": "2018-09-26T19:22:26.823759Z"
    }
   },
   "outputs": [],
   "source": [
    "print(\"linkhead(df, n=5, fields=None, cik='cik', accession='accession')\")\n",
    "def linkhead(df, n=5, fields=None, cik='cik', accession='accession', return_df=False):\n",
    "    \"\"\"\n",
    "    Displays top rows of a dataframe, and includes\n",
    "    links to the HTML and FTP websites if CIK and Accession are found.\n",
    "    \"\"\"\n",
    "    w = pd.get_option('display.max_colwidth')\n",
    "    pd.set_option('display.max_colwidth', -1)\n",
    "    \n",
    "    if fields is None:\n",
    "        fields = list(df.columns)\n",
    "    \n",
    "    dfn = df.head(n).copy()        \n",
    "    \n",
    "    if cik in dfn.columns:\n",
    "        linkstr, i = 'links', 0\n",
    "        while linkstr in dfn.columns:\n",
    "            linkstr = 'links%d' % i\n",
    "            i += 1\n",
    "        dfn[linkstr] = dfn.apply(lambda row: edgarweb.edgar_links(row[cik], row[accession]), axis=1)\n",
    "        fields.append(linkstr)\n",
    "    \n",
    "    html = dfn[fields].to_html(escape=False, index=False, na_rep=\"\")\n",
    "    \n",
    "    display_html(html, raw=True)\n",
    "    pd.set_option('display.max_colwidth', w)\n",
    "    \n",
    "    if return_df: \n",
    "        return dfn"
   ]
  },
  {
   "cell_type": "code",
   "execution_count": null,
   "metadata": {},
   "outputs": [],
   "source": [
    "import seaborn as sns\n",
    "import matplotlib.pyplot as plt\n",
    "\n",
    "print(\"timehist(dtseries_or_df, time_variable='year', y_tic_number=4, x_tic_skip=0, *args, **kwargs)\")\n",
    "def timehist(dtseries_or_df, time_variable='year',\n",
    "             y_tic_number=4, x_tic_skip=0,\n",
    "             width=.9, ax=None, skip_retick=False,\n",
    "             *args, **kwargs):\n",
    "    \"\"\"\n",
    "    Historgam of observations per time period.\n",
    "    First tries: dtseries_or_df.dt.time_variable\n",
    "    Failing that, does dtseries_or_df.value_counts()\n",
    "    Sends args and kwargs to figure.\n",
    "    \"\"\"\n",
    "    x_tic_skip += 1\n",
    "    sns.set_style('darkgrid')\n",
    "    sns.set_context('talk', rc={'patch.linewidth': 0, 'patch.edgecolor': 'k', 'patch.facecolor': 'k'})\n",
    "    _d = dtseries_or_df\n",
    "    try:\n",
    "        _d = _d.dt.__getattribute__(time_variable)\n",
    "    except:\n",
    "        try:\n",
    "            _d = _d[time_variable]\n",
    "        except:\n",
    "            pass\n",
    "    _g = _d.value_counts().sort_index()\n",
    "    if len(_g) > 1000:\n",
    "        logger.error(\"ERROR: You are trying to plot something with too many levels. Don't do that.\")\n",
    "        return \n",
    "    \n",
    "    if ax is None:\n",
    "        if 'figsize' not in kwargs:\n",
    "            kwargs['figsize'] = (13,2)\n",
    "        plt.figure(*args, **kwargs)\n",
    "        ax = plt.gca()\n",
    "    \n",
    "    ax.bar(_g.index, _g, width=width)\n",
    "    \n",
    "    if not skip_retick:\n",
    "        # Format and label X axis\n",
    "        ax.set_xlim(left=_g.index.min()-0.5, right=_g.index.max()+0.5)\n",
    "        _t = _g.index[::x_tic_skip]\n",
    "        ax.set_xticks(_t)\n",
    "        ax.set_xticklabels(map(str, _t), rotation='vertical')\n",
    "\n",
    "        # Label Y Axis\n",
    "        tene = math.log10(_g.max())//1-1\n",
    "        topnum = math.ceil(_g.max() / 10**tene)\n",
    "        ax.set_yticks([(topnum * i // y_tic_number)*10**tene for i in range(y_tic_number, 0, -1)])\n",
    "    \n",
    "    return ax"
   ]
  },
  {
   "cell_type": "code",
   "execution_count": null,
   "metadata": {},
   "outputs": [],
   "source": []
  }
 ],
 "metadata": {
  "kernelspec": {
   "display_name": "Python 3",
   "language": "python",
   "name": "python3"
  },
  "language_info": {
   "codemirror_mode": {
    "name": "ipython",
    "version": 3
   },
   "file_extension": ".py",
   "mimetype": "text/x-python",
   "name": "python",
   "nbconvert_exporter": "python",
   "pygments_lexer": "ipython3",
   "version": "3.6.6"
  }
 },
 "nbformat": 4,
 "nbformat_minor": 2
}
