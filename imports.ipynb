{
 "cells": [
  {
   "cell_type": "code",
   "execution_count": null,
   "metadata": {},
   "outputs": [],
   "source": [
    "# system/os/regex and basic math functions\n",
    "import os\n",
    "import re\n",
    "import sys\n",
    "import math\n",
    "import json\n",
    "import time\n",
    "import string\n",
    "import dateutil\n",
    "import datetime as dt\n",
    "from itertools import chain"
   ]
  },
  {
   "cell_type": "code",
   "execution_count": null,
   "metadata": {},
   "outputs": [],
   "source": [
    "# Set logging level\n",
    "import logging\n",
    "logger = logging.getLogger()\n",
    "logger.setLevel(logging.WARNING)\n",
    "print(\"Set logger to WARNING, call logger.setLevel(logging.INFO) to see more logging output.\")"
   ]
  },
  {
   "cell_type": "code",
   "execution_count": null,
   "metadata": {},
   "outputs": [],
   "source": [
    "# IPython display convenience stuff\n",
    "try:\n",
    "    from IPython.display import HTML, display, display_html, display_javascript\n",
    "    from IPython import __version__ as ipythonversion\n",
    "    import ipywidgets\n",
    "    print(\"IPython: {}\".format(ipythonversion))\n",
    "except (ImportError, ModuleNotFoundError):\n",
    "    pass"
   ]
  },
  {
   "cell_type": "code",
   "execution_count": null,
   "metadata": {},
   "outputs": [],
   "source": [
    "try:\n",
    "    # numpy for matrix algebra\n",
    "    import numpy as np\n",
    "    print(\"Numpy (np): {}\".format(np.version.full_version))\n",
    "except (ImportError, ModuleNotFoundError):\n",
    "    pass"
   ]
  },
  {
   "cell_type": "code",
   "execution_count": null,
   "metadata": {},
   "outputs": [],
   "source": [
    "try:\n",
    "    # scipy for probability distributions and some statistical tests\n",
    "    import scipy as sp\n",
    "    import scipy.stats as stats\n",
    "    print(\"Scipy (sp, stats): {}\".format(sp.version.full_version))\n",
    "except (ImportError, ModuleNotFoundError):\n",
    "    pass"
   ]
  },
  {
   "cell_type": "code",
   "execution_count": null,
   "metadata": {},
   "outputs": [],
   "source": [
    "try:\n",
    "    # pandas for data manipulation\n",
    "    import pandas as pd\n",
    "    print(\"Pandas (pd): {}\".format(pd.__version__))\n",
    "\n",
    "    def fmt_float(float_in):\n",
    "        if float_in//1 == float_in:\n",
    "            return '{:.0f}'.format(float_in)\n",
    "        #if pd.np.isnan(float_in):\n",
    "        #    return '<i>nan</i>'\n",
    "        return '{:0.3f}'.format(float_in)\n",
    "    pd.set_option('max_rows', 100, 'max_columns', 100)\n",
    "    pd.set_option('display.notebook_repr_html', True, 'float_format', fmt_float)\n",
    "    \n",
    "    def C(df, cols=None):\n",
    "        \"\"\"C splits strings, and if called with a df input, interpolates variable names.\n",
    "        \n",
    "        Example::\n",
    "            C('gvkey datadate') # --> ['gvkey', 'datadate']\n",
    "            df.C('gvk* datad* num*') # --> ['gvkey', 'datadate', 'num_words', 'num_sentences']\n",
    "        \"\"\"\n",
    "        if isinstance(df, str):\n",
    "            cols = df\n",
    "        if isinstance(cols, str):\n",
    "            new_cols = []\n",
    "            for col in cols.split():\n",
    "                if '*' in col or '?' in col:\n",
    "                    matcher = re.compile(r'\\b'+col.replace('*', '.*').replace('?', '.')+r'\\b', re.I)\n",
    "                    new_cols.extend([c for c in df.columns if matcher.search(c)])\n",
    "                else:\n",
    "                    new_cols.append(col)\n",
    "            cols = new_cols\n",
    "        return cols\n",
    "    pd.DataFrame.C = C\n",
    "except (ImportError, ModuleNotFoundError):\n",
    "    pass"
   ]
  },
  {
   "cell_type": "code",
   "execution_count": null,
   "metadata": {},
   "outputs": [],
   "source": [
    "try:\n",
    "    # Scikit Learn for more regressions\n",
    "    import sklearn as sk\n",
    "    print(\"Scikit-Learn (sk): {}\".format(sk.__version__))\n",
    "except (ImportError, ModuleNotFoundError):\n",
    "    pass"
   ]
  },
  {
   "cell_type": "code",
   "execution_count": null,
   "metadata": {},
   "outputs": [],
   "source": [
    "try:\n",
    "    # statsmodels for econometrics\n",
    "    import statsmodels.api as sm\n",
    "    print(\"Statsmodels (sm): {}\".format(sm.__version__))\n",
    "except (ImportError, AttributeError):\n",
    "    pass"
   ]
  },
  {
   "cell_type": "code",
   "execution_count": null,
   "metadata": {},
   "outputs": [],
   "source": [
    "try:\n",
    "    # patsy for making formulas\n",
    "    import patsy as pt\n",
    "    print(\"Patsy (pt): {}\".format(pt.__version__))\n",
    "except (ImportError, ModuleNotFoundError):\n",
    "    pass"
   ]
  },
  {
   "cell_type": "code",
   "execution_count": null,
   "metadata": {},
   "outputs": [],
   "source": [
    "try:\n",
    "    # matplotlib for plotting and pyplot for MATLAB-style API\n",
    "    import matplotlib as mpl\n",
    "    import matplotlib.pyplot as plt\n",
    "    mpl.style.use('ggplot')\n",
    "    plt.rcParams['figure.figsize'] = (15, 5) \n",
    "    print(\"MatPlotLib (mpl, plt): {}\".format(mpl.__version__))\n",
    "except (ImportError, ModuleNotFoundError):\n",
    "    pass"
   ]
  },
  {
   "cell_type": "code",
   "execution_count": null,
   "metadata": {},
   "outputs": [],
   "source": [
    "try:\n",
    "    # Seaborn for pretty plotting\n",
    "    import seaborn as sns\n",
    "    print(\"Seaborn (sns): {}\".format(sns.__version__))\n",
    "except (ImportError, ModuleNotFoundError):\n",
    "    pass"
   ]
  },
  {
   "cell_type": "code",
   "execution_count": null,
   "metadata": {},
   "outputs": [],
   "source": [
    "try:\n",
    "    # SQLAlchemy for relational db management\n",
    "    import sqlalchemy as sa\n",
    "    print(\"SQLAlchemy (sa): {}\".format(sa.__version__))\n",
    "except (ImportError, ModuleNotFoundError):\n",
    "    pass"
   ]
  },
  {
   "cell_type": "code",
   "execution_count": null,
   "metadata": {},
   "outputs": [],
   "source": [
    "try:\n",
    "    # Gensim for textual analysis\n",
    "    import gensim\n",
    "    print(\"Gensim: {}\".format(gensim.__version__))\n",
    "except (ImportError, ModuleNotFoundError):\n",
    "    pass"
   ]
  },
  {
   "cell_type": "code",
   "execution_count": null,
   "metadata": {},
   "outputs": [],
   "source": [
    "try:\n",
    "    # TQDM for progress bar outputs\n",
    "    from tqdm.notebook import tqdm\n",
    "except (ImportError, ModuleNotFoundError):\n",
    "    def tqdm(thing, *args, **kwargs):\n",
    "        return thing"
   ]
  },
  {
   "cell_type": "code",
   "execution_count": null,
   "metadata": {},
   "outputs": [],
   "source": [
    "try:\n",
    "    # SAS7BDAT for reading SAS files\n",
    "    from sas7bdat import SAS7BDAT as SASdb\n",
    "    \n",
    "    SAS_ZERO = dt.datetime(1960,1,1)\n",
    "    def sas_date_to_datetime(df_col):\n",
    "        return pd.to_timedelta(df_col, unit='d') + SAS_ZERO\n",
    "except (ImportError, ModuleNotFoundError):\n",
    "    pass"
   ]
  },
  {
   "cell_type": "code",
   "execution_count": null,
   "metadata": {
    "ExecuteTime": {
     "end_time": "2018-09-26T18:56:13.035009Z",
     "start_time": "2018-09-26T18:56:12.241131Z"
    }
   },
   "outputs": [],
   "source": [
    "try:\n",
    "    from pyedgar.utilities import edgarweb\n",
    "except (ImportError, ModuleNotFoundError):\n",
    "    class _o_(object):\n",
    "        def edgar_links(*args, **kwargs):\n",
    "            return ''\n",
    "    edgarweb = _o_()"
   ]
  },
  {
   "cell_type": "code",
   "execution_count": null,
   "metadata": {
    "ExecuteTime": {
     "end_time": "2018-09-26T18:56:13.035009Z",
     "start_time": "2018-09-26T18:56:12.241131Z"
    }
   },
   "outputs": [],
   "source": [
    "try:\n",
    "    import panda_cub\n",
    "    panda_cub.monkey_patch_pandas()\n",
    "    panda_cub.monkey_patch_seaborn()\n",
    "except (ImportError, ModuleNotFoundError):\n",
    "    pass"
   ]
  },
  {
   "cell_type": "code",
   "execution_count": null,
   "metadata": {
    "ExecuteTime": {
     "end_time": "2018-09-26T19:22:26.834516Z",
     "start_time": "2018-09-26T19:22:26.823759Z"
    }
   },
   "outputs": [],
   "source": [
    "# print(\"linkhead(df, n=5, title='', fields=None, cik='cik', accession='accession')\")\n",
    "def linkhead(df, n=5, title='', fields=None, cik='cik', accession='accession', return_df=False):\n",
    "    \"\"\"\n",
    "    Displays top rows of a dataframe, and includes\n",
    "    links to the HTML and FTP websites if CIK and Accession are found.\n",
    "    \"\"\"\n",
    "    if len(df) == 0:\n",
    "        display_html(df[fields or df.columns].assign(link='').to_html(), raw=True)\n",
    "        return\n",
    "        \n",
    "    w = pd.get_option('display.max_colwidth')\n",
    "    pd.set_option('display.max_colwidth', -1)\n",
    "    \n",
    "    if fields is None:\n",
    "        fields = list(df.columns)\n",
    "    \n",
    "    dfn = df.head(n).copy()        \n",
    "    \n",
    "    if cik in dfn.columns:\n",
    "        linkstr, i = 'links', 0\n",
    "        while linkstr in dfn.columns:\n",
    "            linkstr = 'links%d' % i\n",
    "            i += 1\n",
    "        dfn[linkstr] = dfn.apply(lambda row: edgarweb.edgar_links(row[cik], row[accession]), axis=1)\n",
    "        fields.append(linkstr)\n",
    "    \n",
    "    html = f\"<h4>{title}</h4>\" if title else ''\n",
    "    html += dfn[fields].to_html(escape=False, index=False, na_rep=\"\")\n",
    "    \n",
    "    display_html(html, raw=True)\n",
    "    pd.set_option('display.max_colwidth', w)\n",
    "    \n",
    "    if return_df: \n",
    "        return dfn"
   ]
  },
  {
   "cell_type": "code",
   "execution_count": null,
   "metadata": {},
   "outputs": [],
   "source": [
    "# print(\"timehist(dtseries_or_df, time_variable='year', y_tic_number=4, x_tic_skip=0, *args, **kwargs)\")\n",
    "def timehist(dtseries_or_df, time_variable='year',\n",
    "             y_tic_number=4, x_tic_skip=0,\n",
    "             width=.9, ax=None, skip_retick=None,\n",
    "             label=None, \n",
    "             *args, **kwargs):\n",
    "    \"\"\"\n",
    "    Historgam of observations per time period.\n",
    "    First tries: dtseries_or_df.dt.time_variable\n",
    "    Failing that, does dtseries_or_df.value_counts()\n",
    "    Sends args and kwargs to figure.\n",
    "    \"\"\"\n",
    "    if ax is not None and skip_retick is None:\n",
    "            skip_retick = True\n",
    "    skip_retick = skip_retick or False\n",
    "    \n",
    "    x_tic_skip += 1\n",
    "    \n",
    "    if not skip_retick:\n",
    "        sns.set_style('darkgrid')\n",
    "        sns.set_context('talk', rc={'patch.linewidth': 0, 'patch.edgecolor': 'k', 'patch.facecolor': 'k'})\n",
    "    \n",
    "    _d = dtseries_or_df\n",
    "    try:\n",
    "        _d = _d.dt.__getattribute__(time_variable)\n",
    "    except:\n",
    "        try:\n",
    "            _d = _d[time_variable]\n",
    "        except:\n",
    "            pass\n",
    "    _g = _d.value_counts().sort_index()\n",
    "    if len(_g) > 1000:\n",
    "        logger.error(\"ERROR: You are trying to plot something with too many levels. Don't do that.\")\n",
    "        return \n",
    "    \n",
    "    if ax is None:\n",
    "        if 'figsize' not in kwargs:\n",
    "            kwargs['figsize'] = (13,2)\n",
    "        plt.figure(*args, **kwargs)\n",
    "        ax = plt.gca()\n",
    "        # If ax is none, assume kwargs are for figure generation.\n",
    "        kwargs = {}\n",
    "    \n",
    "    ax.bar(_g.index, _g, width=width, label=label, **kwargs)\n",
    "    \n",
    "    if not skip_retick:\n",
    "        # Format and label X axis\n",
    "        ax.set_xlim(left=_g.index.min()-0.5, right=_g.index.max()+0.5)\n",
    "        _t = _g.index[::x_tic_skip]\n",
    "        ax.set_xticks(_t)\n",
    "        ax.set_xticklabels(map(str, _t), rotation='vertical')\n",
    "\n",
    "        # Label Y Axis\n",
    "        tene = math.log10(_g.max())//1-1\n",
    "        topnum = math.ceil(_g.max() / 10**tene)\n",
    "        ax.set_yticks([(topnum * i // y_tic_number)*10**tene for i in range(y_tic_number, 0, -1)])\n",
    "    \n",
    "    return ax"
   ]
  },
  {
   "cell_type": "code",
   "execution_count": null,
   "metadata": {},
   "outputs": [],
   "source": [
    "# Constants\n",
    "# Min/max dates for filling in missings in a between comparison\n",
    "MIN_DATE = dt.datetime(1900, 1, 1)\n",
    "MAX_DATE = dt.datetime(2030, 1, 1)\n",
    "\n",
    "# Day and year time-deltas for (date1 - date2) / TD_DAY --> int number of days difference\n",
    "TD_DAY = pd.Timedelta(days=1)\n",
    "TD_YEAR = pd.Timedelta(days=1) * 365"
   ]
  }
 ],
 "metadata": {
  "kernelspec": {
   "display_name": "Python 3",
   "language": "python",
   "name": "python3"
  },
  "language_info": {
   "codemirror_mode": {
    "name": "ipython",
    "version": 3
   },
   "file_extension": ".py",
   "mimetype": "text/x-python",
   "name": "python",
   "nbconvert_exporter": "python",
   "pygments_lexer": "ipython3",
   "version": "3.7.3"
  }
 },
 "nbformat": 4,
 "nbformat_minor": 2
}
